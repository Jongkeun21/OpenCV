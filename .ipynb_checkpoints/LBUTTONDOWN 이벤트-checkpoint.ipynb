{
 "cells": [
  {
   "cell_type": "code",
   "execution_count": 8,
   "metadata": {},
   "outputs": [],
   "source": [
    "import numpy as np\n",
    "import cv2\n",
    "import os"
   ]
  },
  {
   "cell_type": "code",
   "execution_count": 9,
   "metadata": {},
   "outputs": [],
   "source": [
    "image_dir = os.getcwd() + \"/images/\""
   ]
  },
  {
   "cell_type": "code",
   "execution_count": 10,
   "metadata": {},
   "outputs": [],
   "source": [
    "def mouse_callback(event, x, y, flags, param) :\n",
    "    if event == cv2.EVENT_LBUTTONDOWN :\n",
    "        print(\"LBUTTON CLICKED: \", x, \", \", y)"
   ]
  },
  {
   "cell_type": "code",
   "execution_count": 11,
   "metadata": {},
   "outputs": [
    {
     "name": "stdout",
     "output_type": "stream",
     "text": [
      "LBUTTON CLICKED:  162 ,  111\n",
      "LBUTTON CLICKED:  109 ,  157\n",
      "LBUTTON CLICKED:  101 ,  269\n",
      "LBUTTON CLICKED:  253 ,  301\n",
      "LBUTTON CLICKED:  288 ,  218\n",
      "LBUTTON CLICKED:  350 ,  155\n",
      "LBUTTON CLICKED:  356 ,  83\n",
      "LBUTTON CLICKED:  382 ,  84\n",
      "LBUTTON CLICKED:  416 ,  160\n",
      "LBUTTON CLICKED:  430 ,  255\n",
      "LBUTTON CLICKED:  252 ,  222\n",
      "LBUTTON CLICKED:  162 ,  278\n",
      "LBUTTON CLICKED:  121 ,  249\n",
      "LBUTTON CLICKED:  98 ,  205\n",
      "LBUTTON CLICKED:  61 ,  273\n",
      "LBUTTON CLICKED:  167 ,  322\n"
     ]
    }
   ],
   "source": [
    "cv2.namedWindow('img_color')\n",
    "cv2.setMouseCallback('img_color', mouse_callback)\n",
    "\n",
    "while True :\n",
    "    img_color = cv2.imread(image_dir+\"dog.3.jpg\")\n",
    "    height, width = img_color.shape[:2]\n",
    "    img_color = cv2.resize(img_color, (width, height), interpolation=cv2.INTER_AREA)\n",
    "    \n",
    "    img_hsv = cv2.cvtColor(img_color, cv2.COLOR_BGR2HSV)\n",
    "    \n",
    "    cv2.imshow('img_color', img_color)\n",
    "    \n",
    "    if cv2.waitKey(1) & 0xFF == 27 :\n",
    "        break\n",
    "\n",
    "cv2.destroyAllWindows()"
   ]
  },
  {
   "cell_type": "code",
   "execution_count": null,
   "metadata": {},
   "outputs": [],
   "source": []
  }
 ],
 "metadata": {
  "kernelspec": {
   "display_name": "Python 3",
   "language": "python",
   "name": "python3"
  },
  "language_info": {
   "codemirror_mode": {
    "name": "ipython",
    "version": 3
   },
   "file_extension": ".py",
   "mimetype": "text/x-python",
   "name": "python",
   "nbconvert_exporter": "python",
   "pygments_lexer": "ipython3",
   "version": "3.7.3"
  }
 },
 "nbformat": 4,
 "nbformat_minor": 2
}
