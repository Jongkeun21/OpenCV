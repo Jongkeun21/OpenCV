{
 "cells": [
  {
   "cell_type": "code",
   "execution_count": 8,
   "metadata": {},
   "outputs": [],
   "source": [
    "import numpy as np\n",
    "import cv2\n",
    "import os\n",
    "\n",
    "image_dir = os.getcwd() + \"/images/\"\n",
    "\n",
    "def mouse_callback(event, x, y, flags, param) :\n",
    "    if event == cv2.EVENT_LBUTTONDOWN :\n",
    "        print(\"LBUTTON CLICKED: \", x, \", \", y)\n",
    "\n",
    "cv2.namedWindow('img_color')\n",
    "cv2.setMouseCallback('img_color', mouse_callback)\n",
    "\n",
    "while True :\n",
    "    img_color = cv2.imread(image_dir+\"dog.3.jpg\")\n",
    "    height, width = img_color.shape[:2]\n",
    "    img_color = cv2.resize(img_color, (width, height), interpolation=cv2.INTER_AREA)\n",
    "    \n",
    "    img_hsv = cv2.cvtColor(img_color, cv2.COLOR_BGR2HSV)\n",
    "    \n",
    "    cv2.imshow('img_color', img_color)\n",
    "    \n",
    "    if cv2.waitKey(1) & 0xFF == 27 :\n",
    "        break\n",
    "\n",
    "cv2.destroyAllWindows()"
   ]
  }
 ],
 "metadata": {
  "kernelspec": {
   "display_name": "Python 3",
   "language": "python",
   "name": "python3"
  },
  "language_info": {
   "codemirror_mode": {
    "name": "ipython",
    "version": 3
   },
   "file_extension": ".py",
   "mimetype": "text/x-python",
   "name": "python",
   "nbconvert_exporter": "python",
   "pygments_lexer": "ipython3",
   "version": "3.7.3"
  }
 },
 "nbformat": 4,
 "nbformat_minor": 2
}
